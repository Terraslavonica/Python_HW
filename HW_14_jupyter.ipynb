{
 "cells": [
  {
   "cell_type": "code",
   "execution_count": 43,
   "metadata": {},
   "outputs": [],
   "source": [
    "import pandas as pd\n",
    "import seaborn as sns\n",
    "\n",
    "%matplotlib inline\n",
    "import matplotlib.pyplot as plt"
   ]
  },
  {
   "cell_type": "markdown",
   "metadata": {},
   "source": [
    "Task 2. В файлике train.csv содержится информация о числе ридов с каждым из 4-ёх нуклеотидов по разным позициям (колонки A, T, G, C)). Постройте гистограмму распределения этих чисел"
   ]
  },
  {
   "cell_type": "code",
   "execution_count": 5,
   "metadata": {},
   "outputs": [],
   "source": [
    "train = pd.read_csv(\"https://github.com/Serfentum/bf_course/raw/master/14.pandas/train.csv\")"
   ]
  },
  {
   "cell_type": "code",
   "execution_count": 6,
   "metadata": {},
   "outputs": [
    {
     "data": {
      "text/html": [
       "<div>\n",
       "<style scoped>\n",
       "    .dataframe tbody tr th:only-of-type {\n",
       "        vertical-align: middle;\n",
       "    }\n",
       "\n",
       "    .dataframe tbody tr th {\n",
       "        vertical-align: top;\n",
       "    }\n",
       "\n",
       "    .dataframe thead th {\n",
       "        text-align: right;\n",
       "    }\n",
       "</style>\n",
       "<table border=\"1\" class=\"dataframe\">\n",
       "  <thead>\n",
       "    <tr style=\"text-align: right;\">\n",
       "      <th></th>\n",
       "      <th>pos</th>\n",
       "      <th>reads_all</th>\n",
       "      <th>matches</th>\n",
       "      <th>mismatches</th>\n",
       "      <th>deletions</th>\n",
       "      <th>insertions</th>\n",
       "      <th>A</th>\n",
       "      <th>C</th>\n",
       "      <th>T</th>\n",
       "      <th>G</th>\n",
       "      <th>A_fraction</th>\n",
       "      <th>T_fraction</th>\n",
       "      <th>G_fraction</th>\n",
       "      <th>C_fraction</th>\n",
       "    </tr>\n",
       "  </thead>\n",
       "  <tbody>\n",
       "    <tr>\n",
       "      <th>0</th>\n",
       "      <td>279</td>\n",
       "      <td>8045</td>\n",
       "      <td>32</td>\n",
       "      <td>7972</td>\n",
       "      <td>46</td>\n",
       "      <td>8</td>\n",
       "      <td>7911.0</td>\n",
       "      <td>54.0</td>\n",
       "      <td>11.0</td>\n",
       "      <td>NaN</td>\n",
       "      <td>0.983503</td>\n",
       "      <td>0.000815</td>\n",
       "      <td>NaN</td>\n",
       "      <td>0.006896</td>\n",
       "    </tr>\n",
       "    <tr>\n",
       "      <th>1</th>\n",
       "      <td>280</td>\n",
       "      <td>8045</td>\n",
       "      <td>7995</td>\n",
       "      <td>48</td>\n",
       "      <td>19</td>\n",
       "      <td>9</td>\n",
       "      <td>NaN</td>\n",
       "      <td>16.0</td>\n",
       "      <td>13.0</td>\n",
       "      <td>19.0</td>\n",
       "      <td>NaN</td>\n",
       "      <td>0.001355</td>\n",
       "      <td>0.002392</td>\n",
       "      <td>0.001914</td>\n",
       "    </tr>\n",
       "    <tr>\n",
       "      <th>2</th>\n",
       "      <td>281</td>\n",
       "      <td>8045</td>\n",
       "      <td>7983</td>\n",
       "      <td>50</td>\n",
       "      <td>16</td>\n",
       "      <td>5</td>\n",
       "      <td>NaN</td>\n",
       "      <td>24.0</td>\n",
       "      <td>4.0</td>\n",
       "      <td>24.0</td>\n",
       "      <td>NaN</td>\n",
       "      <td>0.000639</td>\n",
       "      <td>0.002875</td>\n",
       "      <td>0.002310</td>\n",
       "    </tr>\n",
       "    <tr>\n",
       "      <th>3</th>\n",
       "      <td>282</td>\n",
       "      <td>8049</td>\n",
       "      <td>7510</td>\n",
       "      <td>505</td>\n",
       "      <td>33</td>\n",
       "      <td>65</td>\n",
       "      <td>105.0</td>\n",
       "      <td>11.0</td>\n",
       "      <td>395.0</td>\n",
       "      <td>NaN</td>\n",
       "      <td>0.012750</td>\n",
       "      <td>0.049096</td>\n",
       "      <td>NaN</td>\n",
       "      <td>0.000919</td>\n",
       "    </tr>\n",
       "    <tr>\n",
       "      <th>4</th>\n",
       "      <td>283</td>\n",
       "      <td>8042</td>\n",
       "      <td>7786</td>\n",
       "      <td>155</td>\n",
       "      <td>115</td>\n",
       "      <td>62</td>\n",
       "      <td>46.0</td>\n",
       "      <td>NaN</td>\n",
       "      <td>93.0</td>\n",
       "      <td>31.0</td>\n",
       "      <td>0.004960</td>\n",
       "      <td>0.010992</td>\n",
       "      <td>0.003186</td>\n",
       "      <td>NaN</td>\n",
       "    </tr>\n",
       "    <tr>\n",
       "      <th>...</th>\n",
       "      <td>...</td>\n",
       "      <td>...</td>\n",
       "      <td>...</td>\n",
       "      <td>...</td>\n",
       "      <td>...</td>\n",
       "      <td>...</td>\n",
       "      <td>...</td>\n",
       "      <td>...</td>\n",
       "      <td>...</td>\n",
       "      <td>...</td>\n",
       "      <td>...</td>\n",
       "      <td>...</td>\n",
       "      <td>...</td>\n",
       "      <td>...</td>\n",
       "    </tr>\n",
       "    <tr>\n",
       "      <th>58</th>\n",
       "      <td>337</td>\n",
       "      <td>8056</td>\n",
       "      <td>7542</td>\n",
       "      <td>471</td>\n",
       "      <td>58</td>\n",
       "      <td>7</td>\n",
       "      <td>NaN</td>\n",
       "      <td>63.0</td>\n",
       "      <td>47.0</td>\n",
       "      <td>367.0</td>\n",
       "      <td>NaN</td>\n",
       "      <td>0.004584</td>\n",
       "      <td>0.045444</td>\n",
       "      <td>0.007767</td>\n",
       "    </tr>\n",
       "    <tr>\n",
       "      <th>59</th>\n",
       "      <td>338</td>\n",
       "      <td>8061</td>\n",
       "      <td>7967</td>\n",
       "      <td>62</td>\n",
       "      <td>29</td>\n",
       "      <td>5</td>\n",
       "      <td>17.0</td>\n",
       "      <td>NaN</td>\n",
       "      <td>26.0</td>\n",
       "      <td>33.0</td>\n",
       "      <td>0.001060</td>\n",
       "      <td>0.002207</td>\n",
       "      <td>0.003992</td>\n",
       "      <td>NaN</td>\n",
       "    </tr>\n",
       "    <tr>\n",
       "      <th>60</th>\n",
       "      <td>339</td>\n",
       "      <td>8062</td>\n",
       "      <td>8002</td>\n",
       "      <td>48</td>\n",
       "      <td>14</td>\n",
       "      <td>3</td>\n",
       "      <td>14.0</td>\n",
       "      <td>14.0</td>\n",
       "      <td>33.0</td>\n",
       "      <td>NaN</td>\n",
       "      <td>0.001076</td>\n",
       "      <td>0.002953</td>\n",
       "      <td>NaN</td>\n",
       "      <td>0.001322</td>\n",
       "    </tr>\n",
       "    <tr>\n",
       "      <th>61</th>\n",
       "      <td>340</td>\n",
       "      <td>8061</td>\n",
       "      <td>7918</td>\n",
       "      <td>146</td>\n",
       "      <td>16</td>\n",
       "      <td>4</td>\n",
       "      <td>NaN</td>\n",
       "      <td>75.0</td>\n",
       "      <td>43.0</td>\n",
       "      <td>33.0</td>\n",
       "      <td>NaN</td>\n",
       "      <td>0.005307</td>\n",
       "      <td>0.002951</td>\n",
       "      <td>0.008808</td>\n",
       "    </tr>\n",
       "    <tr>\n",
       "      <th>62</th>\n",
       "      <td>341</td>\n",
       "      <td>8059</td>\n",
       "      <td>7869</td>\n",
       "      <td>192</td>\n",
       "      <td>2</td>\n",
       "      <td>4</td>\n",
       "      <td>NaN</td>\n",
       "      <td>134.0</td>\n",
       "      <td>37.0</td>\n",
       "      <td>17.0</td>\n",
       "      <td>NaN</td>\n",
       "      <td>0.004250</td>\n",
       "      <td>0.002243</td>\n",
       "      <td>0.016619</td>\n",
       "    </tr>\n",
       "  </tbody>\n",
       "</table>\n",
       "<p>63 rows × 14 columns</p>\n",
       "</div>"
      ],
      "text/plain": [
       "    pos  reads_all  matches  mismatches  deletions  insertions       A      C  \\\n",
       "0   279       8045       32        7972         46           8  7911.0   54.0   \n",
       "1   280       8045     7995          48         19           9     NaN   16.0   \n",
       "2   281       8045     7983          50         16           5     NaN   24.0   \n",
       "3   282       8049     7510         505         33          65   105.0   11.0   \n",
       "4   283       8042     7786         155        115          62    46.0    NaN   \n",
       "..  ...        ...      ...         ...        ...         ...     ...    ...   \n",
       "58  337       8056     7542         471         58           7     NaN   63.0   \n",
       "59  338       8061     7967          62         29           5    17.0    NaN   \n",
       "60  339       8062     8002          48         14           3    14.0   14.0   \n",
       "61  340       8061     7918         146         16           4     NaN   75.0   \n",
       "62  341       8059     7869         192          2           4     NaN  134.0   \n",
       "\n",
       "        T      G  A_fraction  T_fraction  G_fraction  C_fraction  \n",
       "0    11.0    NaN    0.983503    0.000815         NaN    0.006896  \n",
       "1    13.0   19.0         NaN    0.001355    0.002392    0.001914  \n",
       "2     4.0   24.0         NaN    0.000639    0.002875    0.002310  \n",
       "3   395.0    NaN    0.012750    0.049096         NaN    0.000919  \n",
       "4    93.0   31.0    0.004960    0.010992    0.003186         NaN  \n",
       "..    ...    ...         ...         ...         ...         ...  \n",
       "58   47.0  367.0         NaN    0.004584    0.045444    0.007767  \n",
       "59   26.0   33.0    0.001060    0.002207    0.003992         NaN  \n",
       "60   33.0    NaN    0.001076    0.002953         NaN    0.001322  \n",
       "61   43.0   33.0         NaN    0.005307    0.002951    0.008808  \n",
       "62   37.0   17.0         NaN    0.004250    0.002243    0.016619  \n",
       "\n",
       "[63 rows x 14 columns]"
      ]
     },
     "execution_count": 6,
     "metadata": {},
     "output_type": "execute_result"
    }
   ],
   "source": [
    "train"
   ]
  },
  {
   "cell_type": "code",
   "execution_count": 24,
   "metadata": {},
   "outputs": [
    {
     "data": {
      "text/plain": [
       "<matplotlib.axes._subplots.AxesSubplot at 0x2ab6a2eb518>"
      ]
     },
     "execution_count": 24,
     "metadata": {},
     "output_type": "execute_result"
    },
    {
     "data": {
      "image/png": "[encoded data removed]",
      "text/plain": [
       "<Figure size 432x288 with 1 Axes>"
      ]
     },
     "metadata": {
      "needs_background": "light"
     },
     "output_type": "display_data"
    }
   ],
   "source": [
    "train.A.hist()"
   ]
  },
  {
   "cell_type": "code",
   "execution_count": 28,
   "metadata": {},
   "outputs": [
    {
     "data": {
      "text/plain": [
       "<matplotlib.axes._subplots.AxesSubplot at 0x2ab6be377b8>"
      ]
     },
     "execution_count": 28,
     "metadata": {},
     "output_type": "execute_result"
    },
    {
     "data": {
      "image/png": "[encoded data removed]",
      "text/plain": [
       "<Figure size 432x288 with 1 Axes>"
      ]
     },
     "metadata": {
      "needs_background": "light"
     },
     "output_type": "display_data"
    }
   ],
   "source": [
    "train.G.hist()"
   ]
  },
  {
   "cell_type": "code",
   "execution_count": 30,
   "metadata": {},
   "outputs": [
    {
     "data": {
      "text/plain": [
       "<matplotlib.axes._subplots.AxesSubplot at 0x2ab7032e6d8>"
      ]
     },
     "execution_count": 30,
     "metadata": {},
     "output_type": "execute_result"
    },
    {
     "data": {
      "image/png": "[encoded data removed]",
      "text/plain": [
       "<Figure size 432x288 with 1 Axes>"
      ]
     },
     "metadata": {
      "needs_background": "light"
     },
     "output_type": "display_data"
    }
   ],
   "source": [
    "train.C.hist()"
   ]
  },
  {
   "cell_type": "code",
   "execution_count": 53,
   "metadata": {},
   "outputs": [
    {
     "data": {
      "text/plain": [
       "array([[<matplotlib.axes._subplots.AxesSubplot object at 0x000002AB780A6748>]],\n",
       "      dtype=object)"
      ]
     },
     "execution_count": 53,
     "metadata": {},
     "output_type": "execute_result"
    },
    {
     "data": {
      "image/png": "[encoded data removed]",
      "text/plain": [
       "<Figure size 432x288 with 1 Axes>"
      ]
     },
     "metadata": {
      "needs_background": "light"
     },
     "output_type": "display_data"
    }
   ],
   "source": [
    "train[['T']].hist()"
   ]
  },
  {
   "cell_type": "code",
   "execution_count": 36,
   "metadata": {},
   "outputs": [
    {
     "data": {
      "text/plain": [
       "<matplotlib.axes._subplots.AxesSubplot at 0x2ab70c02f60>"
      ]
     },
     "execution_count": 36,
     "metadata": {},
     "output_type": "execute_result"
    },
    {
     "data": {
      "image/png": "[encoded data removed]",
      "text/plain": [
       "<Figure size 432x288 with 1 Axes>"
      ]
     },
     "metadata": {
      "needs_background": "light"
     },
     "output_type": "display_data"
    }
   ],
   "source": [
    "train[['A','T','G','C']].plot()"
   ]
  },
  {
   "cell_type": "code",
   "execution_count": 37,
   "metadata": {},
   "outputs": [
    {
     "data": {
      "text/plain": [
       "array([[<matplotlib.axes._subplots.AxesSubplot object at 0x000002AB71CA7EF0>,\n",
       "        <matplotlib.axes._subplots.AxesSubplot object at 0x000002AB71CCCA20>],\n",
       "       [<matplotlib.axes._subplots.AxesSubplot object at 0x000002AB71CFFCC0>,\n",
       "        <matplotlib.axes._subplots.AxesSubplot object at 0x000002AB71D42080>]],\n",
       "      dtype=object)"
      ]
     },
     "execution_count": 37,
     "metadata": {},
     "output_type": "execute_result"
    },
    {
     "data": {
      "image/png": "[encoded data removed]",
      "text/plain": [
       "<Figure size 432x288 with 4 Axes>"
      ]
     },
     "metadata": {
      "needs_background": "light"
     },
     "output_type": "display_data"
    }
   ],
   "source": [
    "train[['A','T','G','C']].hist()"
   ]
  },
  {
   "cell_type": "code",
   "execution_count": 56,
   "metadata": {},
   "outputs": [
    {
     "data": {
      "text/plain": [
       "<matplotlib.axes._subplots.AxesSubplot at 0x2ab79de4518>"
      ]
     },
     "execution_count": 56,
     "metadata": {},
     "output_type": "execute_result"
    },
    {
     "data": {
      "image/png": "[encoded data removed]",
      "text/plain": [
       "<Figure size 432x288 with 1 Axes>"
      ]
     },
     "metadata": {
      "needs_background": "light"
     },
     "output_type": "display_data"
    }
   ],
   "source": [
    "sns.barplot(data=train, x='pos', y='A')\n",
    "sns.barplot(data=train, x='pos', y='C')"
   ]
  },
  {
   "cell_type": "markdown",
   "metadata": {},
   "source": [
    "Task 3. Сохраните в файл train_part.csv следующую часть из файла train.csv:\n",
    "строки, где matches больше чем среднее\n",
    "колонки pos, reads_all, mismatches, deletions, insertions"
   ]
  },
  {
   "cell_type": "code",
   "execution_count": 21,
   "metadata": {},
   "outputs": [],
   "source": [
    "matches_mean = train.matches.mean()"
   ]
  },
  {
   "cell_type": "code",
   "execution_count": 16,
   "metadata": {},
   "outputs": [
    {
     "data": {
      "text/plain": [
       "4710.285714285715"
      ]
     },
     "execution_count": 16,
     "metadata": {},
     "output_type": "execute_result"
    }
   ],
   "source": [
    "matches_mean"
   ]
  },
  {
   "cell_type": "code",
   "execution_count": 19,
   "metadata": {},
   "outputs": [],
   "source": [
    "train_part = train.loc[train[\"matches\"] > matches_mean][['pos', 'reads_all', 'mismatches', 'deletions', 'insertions']]"
   ]
  },
  {
   "cell_type": "code",
   "execution_count": 20,
   "metadata": {},
   "outputs": [
    {
     "data": {
      "text/html": [
       "<div>\n",
       "<style scoped>\n",
       "    .dataframe tbody tr th:only-of-type {\n",
       "        vertical-align: middle;\n",
       "    }\n",
       "\n",
       "    .dataframe tbody tr th {\n",
       "        vertical-align: top;\n",
       "    }\n",
       "\n",
       "    .dataframe thead th {\n",
       "        text-align: right;\n",
       "    }\n",
       "</style>\n",
       "<table border=\"1\" class=\"dataframe\">\n",
       "  <thead>\n",
       "    <tr style=\"text-align: right;\">\n",
       "      <th></th>\n",
       "      <th>pos</th>\n",
       "      <th>reads_all</th>\n",
       "      <th>mismatches</th>\n",
       "      <th>deletions</th>\n",
       "      <th>insertions</th>\n",
       "    </tr>\n",
       "  </thead>\n",
       "  <tbody>\n",
       "    <tr>\n",
       "      <th>1</th>\n",
       "      <td>280</td>\n",
       "      <td>8045</td>\n",
       "      <td>48</td>\n",
       "      <td>19</td>\n",
       "      <td>9</td>\n",
       "    </tr>\n",
       "    <tr>\n",
       "      <th>2</th>\n",
       "      <td>281</td>\n",
       "      <td>8045</td>\n",
       "      <td>50</td>\n",
       "      <td>16</td>\n",
       "      <td>5</td>\n",
       "    </tr>\n",
       "    <tr>\n",
       "      <th>3</th>\n",
       "      <td>282</td>\n",
       "      <td>8049</td>\n",
       "      <td>505</td>\n",
       "      <td>33</td>\n",
       "      <td>65</td>\n",
       "    </tr>\n",
       "    <tr>\n",
       "      <th>4</th>\n",
       "      <td>283</td>\n",
       "      <td>8042</td>\n",
       "      <td>155</td>\n",
       "      <td>115</td>\n",
       "      <td>62</td>\n",
       "    </tr>\n",
       "    <tr>\n",
       "      <th>5</th>\n",
       "      <td>284</td>\n",
       "      <td>8048</td>\n",
       "      <td>104</td>\n",
       "      <td>864</td>\n",
       "      <td>241</td>\n",
       "    </tr>\n",
       "    <tr>\n",
       "      <th>17</th>\n",
       "      <td>296</td>\n",
       "      <td>8039</td>\n",
       "      <td>1883</td>\n",
       "      <td>1308</td>\n",
       "      <td>50</td>\n",
       "    </tr>\n",
       "    <tr>\n",
       "      <th>19</th>\n",
       "      <td>298</td>\n",
       "      <td>8047</td>\n",
       "      <td>769</td>\n",
       "      <td>1345</td>\n",
       "      <td>12</td>\n",
       "    </tr>\n",
       "    <tr>\n",
       "      <th>20</th>\n",
       "      <td>299</td>\n",
       "      <td>8043</td>\n",
       "      <td>728</td>\n",
       "      <td>1053</td>\n",
       "      <td>60</td>\n",
       "    </tr>\n",
       "    <tr>\n",
       "      <th>21</th>\n",
       "      <td>300</td>\n",
       "      <td>8049</td>\n",
       "      <td>862</td>\n",
       "      <td>468</td>\n",
       "      <td>64</td>\n",
       "    </tr>\n",
       "    <tr>\n",
       "      <th>22</th>\n",
       "      <td>301</td>\n",
       "      <td>8050</td>\n",
       "      <td>1395</td>\n",
       "      <td>516</td>\n",
       "      <td>51</td>\n",
       "    </tr>\n",
       "    <tr>\n",
       "      <th>25</th>\n",
       "      <td>304</td>\n",
       "      <td>8051</td>\n",
       "      <td>1492</td>\n",
       "      <td>1248</td>\n",
       "      <td>63</td>\n",
       "    </tr>\n",
       "    <tr>\n",
       "      <th>26</th>\n",
       "      <td>305</td>\n",
       "      <td>8048</td>\n",
       "      <td>1054</td>\n",
       "      <td>1641</td>\n",
       "      <td>36</td>\n",
       "    </tr>\n",
       "    <tr>\n",
       "      <th>32</th>\n",
       "      <td>311</td>\n",
       "      <td>8051</td>\n",
       "      <td>1479</td>\n",
       "      <td>1558</td>\n",
       "      <td>90</td>\n",
       "    </tr>\n",
       "    <tr>\n",
       "      <th>33</th>\n",
       "      <td>312</td>\n",
       "      <td>8051</td>\n",
       "      <td>1766</td>\n",
       "      <td>1556</td>\n",
       "      <td>159</td>\n",
       "    </tr>\n",
       "    <tr>\n",
       "      <th>34</th>\n",
       "      <td>313</td>\n",
       "      <td>8054</td>\n",
       "      <td>1337</td>\n",
       "      <td>1687</td>\n",
       "      <td>66</td>\n",
       "    </tr>\n",
       "    <tr>\n",
       "      <th>41</th>\n",
       "      <td>320</td>\n",
       "      <td>8052</td>\n",
       "      <td>584</td>\n",
       "      <td>1194</td>\n",
       "      <td>18</td>\n",
       "    </tr>\n",
       "    <tr>\n",
       "      <th>42</th>\n",
       "      <td>321</td>\n",
       "      <td>8059</td>\n",
       "      <td>748</td>\n",
       "      <td>839</td>\n",
       "      <td>53</td>\n",
       "    </tr>\n",
       "    <tr>\n",
       "      <th>43</th>\n",
       "      <td>322</td>\n",
       "      <td>8053</td>\n",
       "      <td>451</td>\n",
       "      <td>315</td>\n",
       "      <td>243</td>\n",
       "    </tr>\n",
       "    <tr>\n",
       "      <th>44</th>\n",
       "      <td>323</td>\n",
       "      <td>8054</td>\n",
       "      <td>996</td>\n",
       "      <td>315</td>\n",
       "      <td>78</td>\n",
       "    </tr>\n",
       "    <tr>\n",
       "      <th>45</th>\n",
       "      <td>324</td>\n",
       "      <td>8052</td>\n",
       "      <td>667</td>\n",
       "      <td>508</td>\n",
       "      <td>49</td>\n",
       "    </tr>\n",
       "    <tr>\n",
       "      <th>49</th>\n",
       "      <td>328</td>\n",
       "      <td>8059</td>\n",
       "      <td>983</td>\n",
       "      <td>2163</td>\n",
       "      <td>197</td>\n",
       "    </tr>\n",
       "    <tr>\n",
       "      <th>53</th>\n",
       "      <td>332</td>\n",
       "      <td>8057</td>\n",
       "      <td>1619</td>\n",
       "      <td>1066</td>\n",
       "      <td>88</td>\n",
       "    </tr>\n",
       "    <tr>\n",
       "      <th>54</th>\n",
       "      <td>333</td>\n",
       "      <td>8053</td>\n",
       "      <td>949</td>\n",
       "      <td>868</td>\n",
       "      <td>25</td>\n",
       "    </tr>\n",
       "    <tr>\n",
       "      <th>55</th>\n",
       "      <td>334</td>\n",
       "      <td>8057</td>\n",
       "      <td>544</td>\n",
       "      <td>675</td>\n",
       "      <td>6</td>\n",
       "    </tr>\n",
       "    <tr>\n",
       "      <th>56</th>\n",
       "      <td>335</td>\n",
       "      <td>8054</td>\n",
       "      <td>259</td>\n",
       "      <td>459</td>\n",
       "      <td>26</td>\n",
       "    </tr>\n",
       "    <tr>\n",
       "      <th>57</th>\n",
       "      <td>336</td>\n",
       "      <td>8061</td>\n",
       "      <td>367</td>\n",
       "      <td>423</td>\n",
       "      <td>3</td>\n",
       "    </tr>\n",
       "    <tr>\n",
       "      <th>58</th>\n",
       "      <td>337</td>\n",
       "      <td>8056</td>\n",
       "      <td>471</td>\n",
       "      <td>58</td>\n",
       "      <td>7</td>\n",
       "    </tr>\n",
       "    <tr>\n",
       "      <th>59</th>\n",
       "      <td>338</td>\n",
       "      <td>8061</td>\n",
       "      <td>62</td>\n",
       "      <td>29</td>\n",
       "      <td>5</td>\n",
       "    </tr>\n",
       "    <tr>\n",
       "      <th>60</th>\n",
       "      <td>339</td>\n",
       "      <td>8062</td>\n",
       "      <td>48</td>\n",
       "      <td>14</td>\n",
       "      <td>3</td>\n",
       "    </tr>\n",
       "    <tr>\n",
       "      <th>61</th>\n",
       "      <td>340</td>\n",
       "      <td>8061</td>\n",
       "      <td>146</td>\n",
       "      <td>16</td>\n",
       "      <td>4</td>\n",
       "    </tr>\n",
       "    <tr>\n",
       "      <th>62</th>\n",
       "      <td>341</td>\n",
       "      <td>8059</td>\n",
       "      <td>192</td>\n",
       "      <td>2</td>\n",
       "      <td>4</td>\n",
       "    </tr>\n",
       "  </tbody>\n",
       "</table>\n",
       "</div>"
      ],
      "text/plain": [
       "    pos  reads_all  mismatches  deletions  insertions\n",
       "1   280       8045          48         19           9\n",
       "2   281       8045          50         16           5\n",
       "3   282       8049         505         33          65\n",
       "4   283       8042         155        115          62\n",
       "5   284       8048         104        864         241\n",
       "17  296       8039        1883       1308          50\n",
       "19  298       8047         769       1345          12\n",
       "20  299       8043         728       1053          60\n",
       "21  300       8049         862        468          64\n",
       "22  301       8050        1395        516          51\n",
       "25  304       8051        1492       1248          63\n",
       "26  305       8048        1054       1641          36\n",
       "32  311       8051        1479       1558          90\n",
       "33  312       8051        1766       1556         159\n",
       "34  313       8054        1337       1687          66\n",
       "41  320       8052         584       1194          18\n",
       "42  321       8059         748        839          53\n",
       "43  322       8053         451        315         243\n",
       "44  323       8054         996        315          78\n",
       "45  324       8052         667        508          49\n",
       "49  328       8059         983       2163         197\n",
       "53  332       8057        1619       1066          88\n",
       "54  333       8053         949        868          25\n",
       "55  334       8057         544        675           6\n",
       "56  335       8054         259        459          26\n",
       "57  336       8061         367        423           3\n",
       "58  337       8056         471         58           7\n",
       "59  338       8061          62         29           5\n",
       "60  339       8062          48         14           3\n",
       "61  340       8061         146         16           4\n",
       "62  341       8059         192          2           4"
      ]
     },
     "execution_count": 20,
     "metadata": {},
     "output_type": "execute_result"
    }
   ],
   "source": [
    "train_part"
   ]
  },
  {
   "cell_type": "code",
   "execution_count": 42,
   "metadata": {},
   "outputs": [],
   "source": [
    "train_part.to_csv('train_part.csv', sep = '\\t')"
   ]
  }
 ],
 "metadata": {
  "kernelspec": {
   "display_name": "Python 3",
   "language": "python",
   "name": "python3"
  },
  "language_info": {
   "codemirror_mode": {
    "name": "ipython",
    "version": 3
   },
   "file_extension": ".py",
   "mimetype": "text/x-python",
   "name": "python",
   "nbconvert_exporter": "python",
   "pygments_lexer": "ipython3",
   "version": "3.7.3"
  }
 },
 "nbformat": 4,
 "nbformat_minor": 2
}
